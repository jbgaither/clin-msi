{
 "cells": [
  {
   "cell_type": "code",
   "execution_count": 12,
   "metadata": {},
   "outputs": [],
   "source": [
    "## IMPORT\n",
    "import pandas as pd\n",
    "import numpy as np\n",
    "import pickle\n",
    "import xgboost as xgb\n",
    "\n"
   ]
  },
  {
   "cell_type": "code",
   "execution_count": null,
   "metadata": {},
   "outputs": [],
   "source": []
  },
  {
   "cell_type": "code",
   "execution_count": 56,
   "metadata": {},
   "outputs": [],
   "source": [
    "## FUNCTIONS\n",
    "## INTERNAL TRAINING FUNCTION\n",
    "def modfit(df,curfeats):\n",
    "    X=df[curfeats]\n",
    "    Y=df['y']\n",
    "    model = xgb.XGBClassifier(max_depth=1,\n",
    "                              colsample_bytree=0.001,\n",
    "                              n_estimators=500,\n",
    "                              eval_metric='error',\n",
    "                              use_label_encoder=False ## to prevent a warning\n",
    "                             )\n",
    "    model.fit(X,Y)\n",
    "    return model\n",
    "\n",
    "## MAIN FUNCTION\n",
    "def train_models(df,moddir):\n",
    "    curfeats=[x for x in df if x != 'y']\n",
    "    moddict={}\n",
    "    nrun=500\n",
    "    modfiles=[moddir+'/xgb_'+str(j+1)+'.pkl' for j in range(nrun)]\n",
    "    for j in range(nrun):\n",
    "        if (j % 10 == 9):\n",
    "            ## DINKY PROGRESS REPORT\n",
    "            print(\"Training model \"+str(j+1))\n",
    "        traininds_loc=df.sample(frac=0.8).index\n",
    "        mymod=modfit(df.loc[traininds_loc],curfeats)\n",
    "        pkl_connect = open(modfiles[j], 'wb')\n",
    "        pickle.dump(mymod, pkl_connect)\n",
    "        pkl_connect.close()\n",
    "    return(modfiles)\n"
   ]
  },
  {
   "cell_type": "code",
   "execution_count": null,
   "metadata": {},
   "outputs": [],
   "source": []
  },
  {
   "cell_type": "code",
   "execution_count": 57,
   "metadata": {},
   "outputs": [
    {
     "name": "stdout",
     "output_type": "stream",
     "text": [
      "Training model 10\n",
      "Training model 20\n",
      "Training model 30\n",
      "Training model 40\n",
      "Training model 50\n",
      "Training model 60\n",
      "Training model 70\n",
      "Training model 80\n",
      "Training model 90\n",
      "Training model 100\n"
     ]
    }
   ],
   "source": [
    "## EXE\n",
    "\n",
    "infile='/igm/home/jbg001/git/msi/dat/sample_patricks_msi_df.csv'\n",
    "rawdat=pd.read_csv(infile)\n",
    "moddir_temp='/igm/home/jbg001/git/msi/tm/temp_mods_020521'\n",
    "modfiles=train_models(rawdat,moddir_temp)"
   ]
  },
  {
   "cell_type": "code",
   "execution_count": null,
   "metadata": {},
   "outputs": [],
   "source": []
  },
  {
   "cell_type": "code",
   "execution_count": 59,
   "metadata": {},
   "outputs": [
    {
     "data": {
      "text/plain": [
       "['/igm/home/jbg001/git/msi/tm/temp_mods_020521/xgb_1.pkl',\n",
       " '/igm/home/jbg001/git/msi/tm/temp_mods_020521/xgb_2.pkl',\n",
       " '/igm/home/jbg001/git/msi/tm/temp_mods_020521/xgb_3.pkl',\n",
       " '/igm/home/jbg001/git/msi/tm/temp_mods_020521/xgb_4.pkl',\n",
       " '/igm/home/jbg001/git/msi/tm/temp_mods_020521/xgb_5.pkl']"
      ]
     },
     "execution_count": 59,
     "metadata": {},
     "output_type": "execute_result"
    }
   ],
   "source": [
    "## OUTPUT\n",
    "modfiles[:5]"
   ]
  },
  {
   "cell_type": "code",
   "execution_count": null,
   "metadata": {},
   "outputs": [],
   "source": []
  },
  {
   "cell_type": "code",
   "execution_count": null,
   "metadata": {},
   "outputs": [],
   "source": []
  },
  {
   "cell_type": "code",
   "execution_count": null,
   "metadata": {},
   "outputs": [],
   "source": []
  },
  {
   "cell_type": "code",
   "execution_count": null,
   "metadata": {},
   "outputs": [],
   "source": []
  },
  {
   "cell_type": "code",
   "execution_count": null,
   "metadata": {},
   "outputs": [],
   "source": []
  }
 ],
 "metadata": {
  "kernelspec": {
   "display_name": "Python [conda env:root] *",
   "language": "python",
   "name": "conda-root-py"
  },
  "language_info": {
   "codemirror_mode": {
    "name": "ipython",
    "version": 3
   },
   "file_extension": ".py",
   "mimetype": "text/x-python",
   "name": "python",
   "nbconvert_exporter": "python",
   "pygments_lexer": "ipython3",
   "version": "3.8.5"
  }
 },
 "nbformat": 4,
 "nbformat_minor": 2
}
